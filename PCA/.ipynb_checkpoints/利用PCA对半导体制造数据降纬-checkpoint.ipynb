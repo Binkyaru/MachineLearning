{
 "cells": [
  {
   "cell_type": "code",
   "execution_count": 1,
   "metadata": {
    "collapsed": true
   },
   "outputs": [],
   "source": [
    "import numpy as np\n",
    "#将NAN数据转换为平均数据\n",
    "def loadDataSet(fileName,delim='\\t'):\n",
    "    fr=open(fileName)\n",
    "    stringArr=[line.strip().split(delim) for line in fr.readlines()]\n",
    "    datArr=[map(float,line) for line in stringArr]\n",
    "    return mat(datArr)\n",
    "def replaceNanWithMean():\n",
    "    dataMat=loadDataSet('secom/secom.data',' ')\n",
    "    numFeat=shape(dataMat)[1]\n",
    "    for i in range(numFeat):\n",
    "        meanVal=mean(dataMat[nozeros(~isnan(dataMat[:,i].A))[0],i])\n",
    "        dataMat[nozeros(isnan(dataMat[:,i].A))[0],i]=meanVal\n",
    "    return dataMat\n",
    "if __name__=\"__main__\":\n",
    "    X=replaceNanWithMean\n",
    "    print X"
   ]
  }
 ],
 "metadata": {
  "kernelspec": {
   "display_name": "Python 3",
   "language": "python",
   "name": "python3"
  },
  "language_info": {
   "codemirror_mode": {
    "name": "ipython",
    "version": 3
   },
   "file_extension": ".py",
   "mimetype": "text/x-python",
   "name": "python",
   "nbconvert_exporter": "python",
   "pygments_lexer": "ipython3",
   "version": "3.6.2"
  }
 },
 "nbformat": 4,
 "nbformat_minor": 2
}
