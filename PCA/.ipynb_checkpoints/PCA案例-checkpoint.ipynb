{
 "cells": [
  {
   "cell_type": "code",
   "execution_count": 15,
   "metadata": {},
   "outputs": [
    {
     "data": {
      "image/png": "[encoded data removed]",
      "text/plain": [
       "<matplotlib.figure.Figure at 0x1f880ca98d0>"
      ]
     },
     "metadata": {},
     "output_type": "display_data"
    },
    {
     "data": {
      "image/png": "[encoded data removed]",
      "text/plain": [
       "<matplotlib.figure.Figure at 0x1f880b6d550>"
      ]
     },
     "metadata": {},
     "output_type": "display_data"
    }
   ],
   "source": [
    "#-*-coding:utf-8-*-\n",
    "#pca的计算过程\n",
    "import numpy as np\n",
    "import matplotlib.pyplot as plt\n",
    "x=np.array([2.5,0.5,2.2,1.9,3.1,2.3,2,1,1.5,1.1])\n",
    "y=np.array([2.4,0.7,2.9,2.2,3,2.7,1.6,1.1,1.6,0.9])\n",
    "#归一化数据\n",
    "scaled_x=x-np.mean(x)\n",
    "scaled_y=y-np.mean(y)\n",
    "data=np.matrix([[scaled_x[i],scaled_y[i]] for i in range(len(scaled_x))])\n",
    "\n",
    "plt.plot(scaled_x,scaled_y,'o') \n",
    "plt.show()\n",
    "\n",
    "#求解协方差矩阵\n",
    "cov=np.cov(scaled_x,scaled_y)\n",
    "#求协方差矩阵的特征值和特征向量\n",
    "eig_val, eig_vec = np.linalg.eig(cov)\n",
    "\n",
    "eig_pairs = [(np.abs(eig_val[i]), eig_vec[:,i]) for i in range(len(eig_val))]\n",
    "eig_pairs.sort(reverse=True)\n",
    "feature=eig_pairs[0][1]\n",
    "new_data=np.transpose(np.dot(eig_vec,np.transpose(data)))\n",
    "\n",
    "plt.plot(scaled_x,scaled_y,'o',color='red')\n",
    "plt.plot([eig_vec[:,0][0],0],[eig_vec[:,0][1],0],color='red')\n",
    "plt.plot([eig_vec[:,1][0],0],[eig_vec[:,1][1],0],color='blue')\n",
    "plt.plot(new_data[:,0],new_data[:,1],'^',color='blue')\n",
    "plt.plot(new_data_reduced[:,0],[1.2]*10,'*',color='green')\n",
    "\n",
    "plt.show()"
   ]
  },
  {
   "cell_type": "code",
   "execution_count": 21,
   "metadata": {},
   "outputs": [
    {
     "name": "stdout",
     "output_type": "stream",
     "text": [
      "pca1:\n",
      "[[ 0.50917706]\n",
      " [ 2.40151069]\n",
      " [ 3.7751606 ]\n",
      " [-1.20075534]\n",
      " [-2.05572155]\n",
      " [-3.42937146]]\n",
      "pca2:\n",
      "[[-0.50917706]\n",
      " [-2.40151069]\n",
      " [-3.7751606 ]\n",
      " [ 1.20075534]\n",
      " [ 2.05572155]\n",
      " [ 3.42937146]]\n"
     ]
    }
   ],
   "source": [
    "#-*-coding:utf-8-*-\n",
    "import numpy as np\n",
    "def pca(X,k):#k is the components you want\n",
    "  #计算均值\n",
    "  n_samples, n_features = X.shape\n",
    "  mean=np.array([np.mean(X[:,i]) for i in range(n_features)])\n",
    "  #归一化\n",
    "  norm_X=X-mean\n",
    "  #计算协方差矩阵\n",
    "  scatter_matrix=np.dot(np.transpose(norm_X),norm_X)\n",
    "  #计算协方差矩阵的特征值和特征向量\n",
    "  eig_val, eig_vec = np.linalg.eig(scatter_matrix)\n",
    "  eig_pairs = [(np.abs(eig_val[i]), eig_vec[:,i]) for i in range(n_features)]\n",
    "  # 将特征向量按照特征值大小顺序排列\n",
    "  eig_pairs.sort(reverse=True)\n",
    "  # 选择top k特征值对应的特征向量\n",
    "  feature=np.array([ele[1] for ele in eig_pairs[:k]])\n",
    "  #返回新的数据\n",
    "  data=np.dot(norm_X,np.transpose(feature))\n",
    "  return data\n",
    "\n",
    "from sklearn.decomposition import PCA\n",
    "X = np.array([[-1, 1], [-2, -1], [-3, -2], [1, 1], [2, 1], [3, 2]])\n",
    "pca1=PCA(n_components=1)\n",
    "pca1.fit(X)\n",
    "print(\"pca1:\")\n",
    "print(pca1.transform(X))\n",
    "pca2=pca(X,1)\n",
    "print(\"pca2:\")\n",
    "print(pca2)"
   ]
  }
 ],
 "metadata": {
  "kernelspec": {
   "display_name": "Python 3",
   "language": "python",
   "name": "python3"
  },
  "language_info": {
   "codemirror_mode": {
    "name": "ipython",
    "version": 3
   },
   "file_extension": ".py",
   "mimetype": "text/x-python",
   "name": "python",
   "nbconvert_exporter": "python",
   "pygments_lexer": "ipython3",
   "version": "3.6.2"
  }
 },
 "nbformat": 4,
 "nbformat_minor": 2
}
