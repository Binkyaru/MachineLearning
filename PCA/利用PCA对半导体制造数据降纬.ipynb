{
 "cells": [
  {
   "cell_type": "code",
   "execution_count": 21,
   "metadata": {},
   "outputs": [
    {
     "name": "stdout",
     "output_type": "stream",
     "text": [
      "[[<map object at 0x0000024FA4D15BA8> <map object at 0x0000024FA4D15C18>\n",
      "  <map object at 0x0000024FA4D15C88> ...,\n",
      "  <map object at 0x0000024FA4D56470> <map object at 0x0000024FA4D56518>\n",
      "  <map object at 0x0000024FA4D565C0>]]\n"
     ]
    }
   ],
   "source": [
    "from numpy import *\n",
    "#将NAN数据转换为平均数据\n",
    "def loadDataSet(fileName,delim='\\t'):\n",
    "    fr=open(fileName)\n",
    "    stringArr=[line.strip().split(delim) for line in fr.readlines()]\n",
    "    datArr=[map(float,line) for line in stringArr]\n",
    "    return mat(datArr)\n",
    "\n",
    "def replaceNanWithMean():\n",
    "\n",
    "    dataMat=loadDataSet('secom/secom.data',' ')\n",
    "    numFeat=shape(dataMat)[1]\n",
    "    for i in range(numFeat):\n",
    "        #meanVal=mean(dataMat[nonzero(~isnan(dataMat[:,i].A))[0],i])\n",
    "        #dataMat[nonzero(isnan(dataMat[:,i].A))[0],i]=meanVal\n",
    "        pass\n",
    "    return dataMat\n",
    "\n",
    "if __name__==\"__main__\":\n",
    "    X=replaceNanWithMean()\n",
    "    print (X)"
   ]
  },
  {
   "cell_type": "code",
   "execution_count": null,
   "metadata": {
    "collapsed": true
   },
   "outputs": [],
   "source": []
  }
 ],
 "metadata": {
  "kernelspec": {
   "display_name": "Python 3",
   "language": "python",
   "name": "python3"
  },
  "language_info": {
   "codemirror_mode": {
    "name": "ipython",
    "version": 3
   },
   "file_extension": ".py",
   "mimetype": "text/x-python",
   "name": "python",
   "nbconvert_exporter": "python",
   "pygments_lexer": "ipython3",
   "version": "3.6.2"
  }
 },
 "nbformat": 4,
 "nbformat_minor": 2
}
